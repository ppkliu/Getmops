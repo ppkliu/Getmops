{
 "cells": [
  {
   "cell_type": "code",
   "execution_count": 5,
   "metadata": {
    "collapsed": true
   },
   "outputs": [],
   "source": [
    "#Get mops financial data\n",
    "import requests\n",
    "import pandas as pd\n",
    "\n",
    "#Enviorment Setting script in iPython ,it will install new package in iPython\n",
    "#!pip install html5lib\n",
    "#!pip install lxml\n",
    "#!pip install beautifulsoup4\n",
    "#!pip install jupyter\n",
    "\n",
    "#Data source link and parameters example\n",
    "#http://mops.twse.com.tw/server-java/t164sb01?step=1&CO_ID=3673&SYEAR=2015&SSEASON=3&REPORT_ID=C"
   ]
  },
  {
   "cell_type": "code",
   "execution_count": 6,
   "metadata": {
    "collapsed": false
   },
   "outputs": [],
   "source": [
    "def Getmops(CO_ID=2330,SYEAR=2015,SSEASON=3):\n",
    "\n",
    "    CO_ID   = str(CO_ID)\n",
    "    SYEAR   = str(SYEAR)\n",
    "    SSEASON = str(SSEASON)\n",
    "    \n",
    "    mopstables =\"http://mops.twse.com.tw/server-java/t164sb01\"\n",
    "    postData = {\"CO_ID\"  : CO_ID,\n",
    "            \"SYEAR\"  : SYEAR,\n",
    "            \"SSEASON\": SSEASON,\n",
    "            \"step\"   : \"1\",\n",
    "            \"REPORT_ID\":\"C\"\n",
    "           }\n",
    "    res = requests.post(mopstables,data=postData)\n",
    "    ##assert res.status_code !=200,\"Get Web data fail,Check internet connection!\" \n",
    "    #if(res.status_code !=200): return [0,res.status_code] \n",
    "    \n",
    "    res.encoding = \"big5\" #mops website use big5 format?\n",
    "    tables = pd.read_html(res.text)\n",
    "\n",
    "    return [len(tables),tables]"
   ]
  },
  {
   "cell_type": "code",
   "execution_count": 7,
   "metadata": {
    "collapsed": true,
    "scrolled": true
   },
   "outputs": [],
   "source": [
    "def GetmopsRev(ICO_ID=2330,IYEAR=2015,Imonth=10):\n",
    "\n",
    "    CO_ID = str(ICO_ID)\n",
    "    Tyear = str(int(IYEAR) - 1911) #convert the year format\n",
    "    Tmonth = str(Imonth)\n",
    "    Yearmonth = Tyear+Tmonth\n",
    "    Typek =\"all\"\n",
    "\n",
    "    mopslink = \"http://mops.twse.com.tw/mops/web/ajax_t05st10_ifrs\"\n",
    "\n",
    "    postData = {\"co_id\"  : CO_ID,\n",
    "            \"yearmonth\"  : Yearmonth,\n",
    "            \"year\"  : Tyear,\n",
    "            \"month\" : Tmonth,\n",
    "            \"TYPEK\" : Typek,\n",
    "            \"encodeURIComponent\":\"1\",\n",
    "            \"run\" : \"1\",\n",
    "            \"step\"   : \"0\",\n",
    "            \"firstin\": \"1\",\n",
    "            \"off\" : \"1\"\n",
    "           }\n",
    "\n",
    "    res = requests.post(mopslink,data=postData)\n",
    "    res.encoding = \"utf8\"   #The mops web is utf8?\n",
    "    tables = pd.read_html(res.text)\n",
    "    \n",
    "    return tables[2]    #tables[2] is target table"
   ]
  },
  {
   "cell_type": "code",
   "execution_count": 8,
   "metadata": {
    "collapsed": false
   },
   "outputs": [
    {
     "data": {
      "text/html": [
       "<div>\n",
       "<table border=\"1\" class=\"dataframe\">\n",
       "  <thead>\n",
       "    <tr style=\"text-align: right;\">\n",
       "      <th></th>\n",
       "      <th>0</th>\n",
       "      <th>1</th>\n",
       "    </tr>\n",
       "  </thead>\n",
       "  <tbody>\n",
       "    <tr>\n",
       "      <th>0</th>\n",
       "      <td>項目</td>\n",
       "      <td>營業收入淨額</td>\n",
       "    </tr>\n",
       "    <tr>\n",
       "      <th>1</th>\n",
       "      <td>本月</td>\n",
       "      <td>81743395</td>\n",
       "    </tr>\n",
       "    <tr>\n",
       "      <th>2</th>\n",
       "      <td>去年同期</td>\n",
       "      <td>80736353</td>\n",
       "    </tr>\n",
       "    <tr>\n",
       "      <th>3</th>\n",
       "      <td>增減金額</td>\n",
       "      <td>1007042</td>\n",
       "    </tr>\n",
       "    <tr>\n",
       "      <th>4</th>\n",
       "      <td>增減百分比</td>\n",
       "      <td>1.25</td>\n",
       "    </tr>\n",
       "    <tr>\n",
       "      <th>5</th>\n",
       "      <td>本年累計</td>\n",
       "      <td>721722200</td>\n",
       "    </tr>\n",
       "    <tr>\n",
       "      <th>6</th>\n",
       "      <td>去年累計</td>\n",
       "      <td>621021743</td>\n",
       "    </tr>\n",
       "    <tr>\n",
       "      <th>7</th>\n",
       "      <td>增減金額</td>\n",
       "      <td>100700457</td>\n",
       "    </tr>\n",
       "    <tr>\n",
       "      <th>8</th>\n",
       "      <td>增減百分比</td>\n",
       "      <td>16.22</td>\n",
       "    </tr>\n",
       "    <tr>\n",
       "      <th>9</th>\n",
       "      <td>備註</td>\n",
       "      <td>NaN</td>\n",
       "    </tr>\n",
       "  </tbody>\n",
       "</table>\n",
       "</div>"
      ],
      "text/plain": [
       "       0          1\n",
       "0     項目     營業收入淨額\n",
       "1     本月   81743395\n",
       "2   去年同期   80736353\n",
       "3   增減金額    1007042\n",
       "4  增減百分比       1.25\n",
       "5   本年累計  721722200\n",
       "6   去年累計  621021743\n",
       "7   增減金額  100700457\n",
       "8  增減百分比      16.22\n",
       "9     備註        NaN"
      ]
     },
     "execution_count": 8,
     "metadata": {},
     "output_type": "execute_result"
    }
   ],
   "source": [
    "table = GetmopsRev(2330,2015,10)\n",
    "table"
   ]
  },
  {
   "cell_type": "code",
   "execution_count": null,
   "metadata": {
    "collapsed": false
   },
   "outputs": [],
   "source": []
  },
  {
   "cell_type": "code",
   "execution_count": 33,
   "metadata": {
    "collapsed": false
   },
   "outputs": [
    {
     "name": "stdout",
     "output_type": "stream",
     "text": [
      "28\n"
     ]
    }
   ],
   "source": [
    "#Please wait for it finish to get so many tables. \n",
    "#\n",
    "#Input : Stock_ID, Target_year, Target_Season\n",
    "[tablelen,tables2] = Getmops(\"2330\",\"2015\",\"3\")\n",
    "print tablelen"
   ]
  },
  {
   "cell_type": "code",
   "execution_count": 18,
   "metadata": {
    "collapsed": false
   },
   "outputs": [
    {
     "name": "stdout",
     "output_type": "stream",
     "text": [
      "31\n"
     ]
    }
   ],
   "source": [
    "[tablelen,tables] = Getmops(\"3673\",\"2015\",\"3\")\n",
    "print tablelen"
   ]
  },
  {
   "cell_type": "code",
   "execution_count": 11,
   "metadata": {
    "collapsed": false
   },
   "outputs": [],
   "source": [
    "#type(tables[1])"
   ]
  },
  {
   "cell_type": "code",
   "execution_count": 12,
   "metadata": {
    "collapsed": false
   },
   "outputs": [
    {
     "data": {
      "text/html": [
       "<div>\n",
       "<table border=\"1\" class=\"dataframe\">\n",
       "  <thead>\n",
       "    <tr style=\"text-align: right;\">\n",
       "      <th></th>\n",
       "      <th>0</th>\n",
       "      <th>1</th>\n",
       "      <th>2</th>\n",
       "      <th>3</th>\n",
       "      <th>4</th>\n",
       "    </tr>\n",
       "  </thead>\n",
       "  <tbody>\n",
       "    <tr>\n",
       "      <th>0</th>\n",
       "      <td>會計項目</td>\n",
       "      <td>2015年第3季</td>\n",
       "      <td>2014年第3季</td>\n",
       "      <td>2015年01月01日至2015年09月30日</td>\n",
       "      <td>2014年01月01日至2014年09月30日</td>\n",
       "    </tr>\n",
       "    <tr>\n",
       "      <th>1</th>\n",
       "      <td>綜合損益表</td>\n",
       "      <td>NaN</td>\n",
       "      <td>NaN</td>\n",
       "      <td>NaN</td>\n",
       "      <td>NaN</td>\n",
       "    </tr>\n",
       "    <tr>\n",
       "      <th>2</th>\n",
       "      <td>營業收入</td>\n",
       "      <td>NaN</td>\n",
       "      <td>NaN</td>\n",
       "      <td>NaN</td>\n",
       "      <td>NaN</td>\n",
       "    </tr>\n",
       "    <tr>\n",
       "      <th>3</th>\n",
       "      <td>銷貨收入淨額</td>\n",
       "      <td>NaN</td>\n",
       "      <td>NaN</td>\n",
       "      <td>NaN</td>\n",
       "      <td>NaN</td>\n",
       "    </tr>\n",
       "    <tr>\n",
       "      <th>4</th>\n",
       "      <td>銷貨收入淨額</td>\n",
       "      <td>34235346</td>\n",
       "      <td>32613450</td>\n",
       "      <td>86925854</td>\n",
       "      <td>89935995</td>\n",
       "    </tr>\n",
       "  </tbody>\n",
       "</table>\n",
       "</div>"
      ],
      "text/plain": [
       "        0         1         2                        3  \\\n",
       "0    會計項目  2015年第3季  2014年第3季  2015年01月01日至2015年09月30日   \n",
       "1   綜合損益表       NaN       NaN                      NaN   \n",
       "2    營業收入       NaN       NaN                      NaN   \n",
       "3  銷貨收入淨額       NaN       NaN                      NaN   \n",
       "4  銷貨收入淨額  34235346  32613450                 86925854   \n",
       "\n",
       "                         4  \n",
       "0  2014年01月01日至2014年09月30日  \n",
       "1                      NaN  \n",
       "2                      NaN  \n",
       "3                      NaN  \n",
       "4                 89935995  "
      ]
     },
     "execution_count": 12,
     "metadata": {},
     "output_type": "execute_result"
    }
   ],
   "source": [
    "tables[2].head()"
   ]
  },
  {
   "cell_type": "code",
   "execution_count": null,
   "metadata": {
    "collapsed": false
   },
   "outputs": [],
   "source": []
  },
  {
   "cell_type": "code",
   "execution_count": 44,
   "metadata": {
    "collapsed": false
   },
   "outputs": [
    {
     "data": {
      "text/html": [
       "<div>\n",
       "<table border=\"1\" class=\"dataframe\">\n",
       "  <thead>\n",
       "    <tr style=\"text-align: right;\">\n",
       "      <th></th>\n",
       "      <th>0</th>\n",
       "      <th>1</th>\n",
       "      <th>2</th>\n",
       "      <th>3</th>\n",
       "    </tr>\n",
       "  </thead>\n",
       "  <tbody>\n",
       "    <tr>\n",
       "      <th>0</th>\n",
       "      <td>明細表</td>\n",
       "      <td>NaN</td>\n",
       "      <td>NaN</td>\n",
       "      <td>NaN</td>\n",
       "    </tr>\n",
       "    <tr>\n",
       "      <th>1</th>\n",
       "      <td>項目及金額</td>\n",
       "      <td>NaN</td>\n",
       "      <td>NaN</td>\n",
       "      <td>NaN</td>\n",
       "    </tr>\n",
       "    <tr>\n",
       "      <th>2</th>\n",
       "      <td>項目</td>\n",
       "      <td>金額</td>\n",
       "      <td>NaN</td>\n",
       "      <td>NaN</td>\n",
       "    </tr>\n",
       "    <tr>\n",
       "      <th>3</th>\n",
       "      <td>本期</td>\n",
       "      <td>去年年底</td>\n",
       "      <td>去年同期</td>\n",
       "      <td>NaN</td>\n",
       "    </tr>\n",
       "    <tr>\n",
       "      <th>4</th>\n",
       "      <td>應收票據及帳款</td>\n",
       "      <td>97115658</td>\n",
       "      <td>115221473</td>\n",
       "      <td>114486051</td>\n",
       "    </tr>\n",
       "    <tr>\n",
       "      <th>5</th>\n",
       "      <td>備抵呆帳</td>\n",
       "      <td>-504026</td>\n",
       "      <td>-486730</td>\n",
       "      <td>-486618</td>\n",
       "    </tr>\n",
       "    <tr>\n",
       "      <th>6</th>\n",
       "      <td>合計</td>\n",
       "      <td>96611632</td>\n",
       "      <td>114734743</td>\n",
       "      <td>113999433</td>\n",
       "    </tr>\n",
       "    <tr>\n",
       "      <th>7</th>\n",
       "      <td>說明</td>\n",
       "      <td>本公司對客戶之授信期間原則上為發票日後30天或月結30天。備 抵呆帳係參考帳齡分析、歷史經驗...</td>\n",
       "      <td>NaN</td>\n",
       "      <td>NaN</td>\n",
       "    </tr>\n",
       "  </tbody>\n",
       "</table>\n",
       "</div>"
      ],
      "text/plain": [
       "         0                                                  1          2  \\\n",
       "0      明細表                                                NaN        NaN   \n",
       "1    項目及金額                                                NaN        NaN   \n",
       "2       項目                                                 金額        NaN   \n",
       "3       本期                                               去年年底       去年同期   \n",
       "4  應收票據及帳款                                           97115658  115221473   \n",
       "5     備抵呆帳                                            -504026    -486730   \n",
       "6       合計                                           96611632  114734743   \n",
       "7       說明  本公司對客戶之授信期間原則上為發票日後30天或月結30天。備 抵呆帳係參考帳齡分析、歷史經驗...        NaN   \n",
       "\n",
       "           3  \n",
       "0        NaN  \n",
       "1        NaN  \n",
       "2        NaN  \n",
       "3        NaN  \n",
       "4  114486051  \n",
       "5    -486618  \n",
       "6  113999433  \n",
       "7        NaN  "
      ]
     },
     "execution_count": 44,
     "metadata": {},
     "output_type": "execute_result"
    }
   ],
   "source": [
    "#Tables[] Description\n",
    "#ex: 3673\n",
    "#1:資產負債表\n",
    "#2:綜合損益表\n",
    "#3:現金流量表\n",
    "#4:當期權益變動表\n",
    "#5:去年同期權益變動表\n",
    "#6:會計師查核報告\n",
    "#7:Report of Independent Auditors\n",
    "#8:財報附註\n",
    "#9:列入合併財務報表之子公司\n",
    "#10:未列入合併財務報表之子公司無此情形／免揭露\n",
    "#11:應收款項\n",
    "#12:已逾期但未減損應收款項之帳齡分析\n",
    "#13:應收款項之備抵呆帳變動資訊\n",
    "#14:關係人交易\n",
    "#15:營業收入\n",
    "#16:進貨\n",
    "#17:應收關係人款項\n",
    "#18:應付關係人款項\n",
    "#19:取得不動產、廠房及設備\n",
    "#20:處分不動產、廠房及設備\n",
    "#21:對關係人放款\n",
    "#22:向關係人借款\n",
    "#23:背書保證\n",
    "#24:主要管理階層薪酬\n",
    "#25:資金貸與他人\n",
    "#26:為他人背書保證\n",
    "#27:母子公司間業務關係及重要交易往來情形\n",
    "#28:被投資公司名稱、所在地區…等相關資訊\n",
    "#29:轉投資大陸地區之事業相關資訊\n",
    "#30:轉投資大陸地區限額\n",
    "tables2[11]\n"
   ]
  },
  {
   "cell_type": "code",
   "execution_count": null,
   "metadata": {
    "collapsed": true
   },
   "outputs": [],
   "source": []
  },
  {
   "cell_type": "code",
   "execution_count": 14,
   "metadata": {
    "collapsed": false
   },
   "outputs": [],
   "source": [
    "CO_ID   =\"2330\"\n",
    "#Yearmonth = \"10409\"\n",
    "Tyear = \"104\"\n",
    "Tmonth =\"09\"\n",
    "Yearmonth = Tyear+Tmonth\n",
    "Typek =\"all\"\n",
    "\n",
    "mopslink = \"http://mops.twse.com.tw/mops/web/ajax_t05st10_ifrs\"\n",
    "\n",
    "postData = {\"co_id\"  : CO_ID,\n",
    "            \"yearmonth\"  : Yearmonth,\n",
    "            \"year\"  : Tyear,\n",
    "            \"month\" : Tmonth,\n",
    "            \"TYPEK\" : Typek,\n",
    "            \"encodeURIComponent\":\"1\",\n",
    "            \"run\" : \"1\",\n",
    "            \"step\"   : \"0\",\n",
    "            \"firstin\": \"1\",\n",
    "            \"off\" : \"1\"\n",
    "           }\n",
    "\n",
    "\n",
    "res = requests.post(mopslink,data=postData)\n",
    "res.encoding = \"utf8\" #mops website use big5 format?\n",
    "tablesx = pd.read_html(res.text)\n",
    "#tables[2]"
   ]
  },
  {
   "cell_type": "code",
   "execution_count": null,
   "metadata": {
    "collapsed": false
   },
   "outputs": [],
   "source": [
    "\n",
    "\n"
   ]
  },
  {
   "cell_type": "code",
   "execution_count": null,
   "metadata": {
    "collapsed": false
   },
   "outputs": [],
   "source": []
  },
  {
   "cell_type": "code",
   "execution_count": null,
   "metadata": {
    "collapsed": true
   },
   "outputs": [],
   "source": []
  }
 ],
 "metadata": {
  "kernelspec": {
   "display_name": "Python 2",
   "language": "python",
   "name": "python2"
  },
  "language_info": {
   "codemirror_mode": {
    "name": "ipython",
    "version": 2
   },
   "file_extension": ".py",
   "mimetype": "text/x-python",
   "name": "python",
   "nbconvert_exporter": "python",
   "pygments_lexer": "ipython2",
   "version": "2.7.10"
  }
 },
 "nbformat": 4,
 "nbformat_minor": 0
}
